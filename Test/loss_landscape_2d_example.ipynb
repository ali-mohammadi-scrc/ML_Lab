{
 "metadata": {
  "language_info": {
   "codemirror_mode": {
    "name": "ipython",
    "version": 3
   },
   "file_extension": ".py",
   "mimetype": "text/x-python",
   "name": "python",
   "nbconvert_exporter": "python",
   "pygments_lexer": "ipython3",
   "version": "3.8.10"
  },
  "orig_nbformat": 4,
  "kernelspec": {
   "name": "python3",
   "display_name": "Python 3.8.10 64-bit ('base': conda)"
  },
  "interpreter": {
   "hash": "f6928d17077493c7c3ae833956f7e34f9cf91c906af633e4956125afae1a3562"
  }
 },
 "nbformat": 4,
 "nbformat_minor": 2,
 "cells": [
  {
   "cell_type": "code",
   "execution_count": 1,
   "source": [
    "import gc\r\n",
    "import numpy as np\r\n",
    "import matplotlib.pyplot as plt\r\n",
    "from mpl_toolkits.mplot3d import Axes3D\r\n",
    "from matplotlib import pyplot as plt\r\n",
    "from matplotlib import cm\r\n",
    "\r\n",
    "from keras_example_cifar10_resnet.resnet import resnet_v1\r\n",
    "from keras_example_cifar10_resnet.cifar10 import load_cifar10\r\n",
    "from loss_landscape.random_direction import *\r\n",
    "from loss_landscape.tf_weights_tools import to1D\r\n"
   ],
   "outputs": [],
   "metadata": {}
  },
  {
   "cell_type": "code",
   "execution_count": 2,
   "source": [
    "(x_train, y_train), (x_test, y_test) = load_cifar10()\r\n",
    "\r\n",
    "del x_train\r\n",
    "del y_train\r\n",
    "gc.collect()"
   ],
   "outputs": [
    {
     "output_type": "execute_result",
     "data": {
      "text/plain": [
       "22"
      ]
     },
     "metadata": {},
     "execution_count": 2
    }
   ],
   "metadata": {}
  },
  {
   "cell_type": "code",
   "execution_count": 3,
   "source": [
    "input_shape = np.shape(x_test[0])\r\n",
    "depth = 20\r\n",
    "loss = 'categorical_crossentropy'\r\n",
    "metrics = ['accuracy']\r\n",
    "\r\n",
    "model = resnet_v1(input_shape=input_shape, depth=depth)\r\n",
    "model.compile(loss=loss, metrics=metrics)\r\n",
    "model_no_skip = resnet_v1(input_shape=input_shape, depth=depth, no_skip=True)\r\n",
    "model_no_skip.compile(loss=loss, metrics=metrics)"
   ],
   "outputs": [],
   "metadata": {}
  },
  {
   "cell_type": "code",
   "execution_count": 4,
   "source": [
    "steps_res = [-1, 1, 51]\r\n",
    "steps = np.array(range(steps_res[2]))/(steps_res[2]-1)\r\n",
    "steps *= steps_res[1] - steps_res[0]\r\n",
    "steps += steps_res[0]\r\n",
    "\r\n",
    "name_suff = '-1_1_51'"
   ],
   "outputs": [],
   "metadata": {}
  },
  {
   "cell_type": "code",
   "execution_count": 5,
   "source": [
    "model_name = 'Unbiased_B32'\r\n",
    "\r\n",
    "model.load_weights('pre_trained_models/' + model_name + '.h5')\r\n",
    "\r\n",
    "def dot_prod(x, y): return np.sum(x * y)\r\n",
    "\r\n",
    "random_dirs = [get_filter_wise_normalized_direction(model) for i in range(50)]\r\n",
    "random_dirs_1D = [np.array(to1D(r_dir)) for r_dir in random_dirs]\r\n",
    "cross_dot_prod = [[np.abs(dot_prod(random_dirs_1D[i], random_dirs_1D[j])) for j in range(len(random_dirs))] for i in range(len(random_dirs))]\r\n",
    "min_ind = np.argmin(cross_dot_prod)\r\n",
    "x_m, y_m = min_ind//len(random_dirs), min_ind%len(random_dirs)\r\n",
    "d_x, d_y = random_dirs[x_m], random_dirs[y_m]\r\n",
    "\r\n",
    "w = np.array(model.get_weights(), dtype=np.object)\r\n",
    "evals = []\r\n",
    "for x_step in steps:\r\n",
    "    y_evals = []\r\n",
    "    for y_step in steps:\r\n",
    "        model.set_weights(w+(x_step*d_x)+(y_step*d_y))\r\n",
    "        y_evals.append(model.evaluate(x=x_test, y=y_test, verbose=0))\r\n",
    "    evals.append(y_evals)\r\n",
    "model.set_weights(w)\r\n",
    "evals = np.array(evals)\r\n",
    "\r\n",
    "np.save('saved_pickles/' + model_name + '_evals_2d' + name_suff, evals, allow_pickle=True)"
   ],
   "outputs": [],
   "metadata": {}
  },
  {
   "cell_type": "code",
   "execution_count": 6,
   "source": [
    "model_name = 'SizeBiased_Cat_E60_B32'\r\n",
    "\r\n",
    "model.load_weights('pre_trained_models/' + model_name + '.h5')\r\n",
    "\r\n",
    "def dot_prod(x, y): return np.sum(x * y)\r\n",
    "\r\n",
    "random_dirs = [get_filter_wise_normalized_direction(model) for i in range(50)]\r\n",
    "random_dirs_1D = [np.array(to1D(r_dir)) for r_dir in random_dirs]\r\n",
    "cross_dot_prod = [[np.abs(dot_prod(random_dirs_1D[i], random_dirs_1D[j])) for j in range(len(random_dirs))] for i in range(len(random_dirs))]\r\n",
    "min_ind = np.argmin(cross_dot_prod)\r\n",
    "x_m, y_m = min_ind//len(random_dirs), min_ind%len(random_dirs)\r\n",
    "d_x, d_y = random_dirs[x_m], random_dirs[y_m]\r\n",
    "\r\n",
    "w = np.array(model.get_weights(), dtype=np.object)\r\n",
    "evals = []\r\n",
    "for x_step in steps:\r\n",
    "    y_evals = []\r\n",
    "    for y_step in steps:\r\n",
    "        model.set_weights(w+(x_step*d_x)+(y_step*d_y))\r\n",
    "        y_evals.append(model.evaluate(x=x_test, y=y_test, verbose=0))\r\n",
    "    evals.append(y_evals)\r\n",
    "model.set_weights(w)\r\n",
    "evals = np.array(evals)\r\n",
    "\r\n",
    "np.save('saved_pickles/' + model_name + '_evals_2d' + name_suff, evals, allow_pickle=True)"
   ],
   "outputs": [],
   "metadata": {}
  },
  {
   "cell_type": "code",
   "execution_count": 7,
   "source": [
    "model_name = 'SizeBiased_Ship_E60_B32'\r\n",
    "\r\n",
    "model.load_weights('pre_trained_models/' + model_name + '.h5')\r\n",
    "\r\n",
    "def dot_prod(x, y): return np.sum(x * y)\r\n",
    "\r\n",
    "random_dirs = [get_filter_wise_normalized_direction(model) for i in range(50)]\r\n",
    "random_dirs_1D = [np.array(to1D(r_dir)) for r_dir in random_dirs]\r\n",
    "cross_dot_prod = [[np.abs(dot_prod(random_dirs_1D[i], random_dirs_1D[j])) for j in range(len(random_dirs))] for i in range(len(random_dirs))]\r\n",
    "min_ind = np.argmin(cross_dot_prod)\r\n",
    "x_m, y_m = min_ind//len(random_dirs), min_ind%len(random_dirs)\r\n",
    "d_x, d_y = random_dirs[x_m], random_dirs[y_m]\r\n",
    "\r\n",
    "w = np.array(model.get_weights(), dtype=np.object)\r\n",
    "evals = []\r\n",
    "for x_step in steps:\r\n",
    "    y_evals = []\r\n",
    "    for y_step in steps:\r\n",
    "        model.set_weights(w+(x_step*d_x)+(y_step*d_y))\r\n",
    "        y_evals.append(model.evaluate(x=x_test, y=y_test, verbose=0))\r\n",
    "    evals.append(y_evals)\r\n",
    "model.set_weights(w)\r\n",
    "evals = np.array(evals)\r\n",
    "\r\n",
    "np.save('saved_pickles/' + model_name + '_evals_2d' + name_suff, evals, allow_pickle=True)"
   ],
   "outputs": [],
   "metadata": {}
  },
  {
   "cell_type": "code",
   "execution_count": 15,
   "source": [
    "model_name = 'Unbiased_NoSkip_B32'\r\n",
    "\r\n",
    "model_no_skip.load_weights('pre_trained_models/' + model_name + '.h5')\r\n",
    "\r\n",
    "def dot_prod(x, y): return np.sum(x * y)\r\n",
    "\r\n",
    "random_dirs = [get_filter_wise_normalized_direction(model_no_skip) for i in range(50)]\r\n",
    "random_dirs_1D = [np.array(to1D(r_dir)) for r_dir in random_dirs]\r\n",
    "cross_dot_prod = [[np.abs(dot_prod(random_dirs_1D[i], random_dirs_1D[j])) for j in range(len(random_dirs))] for i in range(len(random_dirs))]\r\n",
    "min_ind = np.argmin(cross_dot_prod)\r\n",
    "x_m, y_m = min_ind//len(random_dirs), min_ind%len(random_dirs)\r\n",
    "d_x, d_y = random_dirs[x_m], random_dirs[y_m]\r\n",
    "\r\n",
    "w = np.array(model_no_skip.get_weights(), dtype=np.object)\r\n",
    "evals = []\r\n",
    "for x_step in steps:\r\n",
    "    y_evals = []\r\n",
    "    for y_step in steps:\r\n",
    "        model_no_skip.set_weights(w+(x_step*d_x)+(y_step*d_y))\r\n",
    "        y_evals.append(model_no_skip.evaluate(x=x_test, y=y_test, verbose=0))\r\n",
    "    evals.append(y_evals)\r\n",
    "model_no_skip.set_weights(w)\r\n",
    "evals = np.array(evals)\r\n",
    "\r\n",
    "np.save('saved_pickles/' + model_name + '_evals_2d' + name_suff, evals, allow_pickle=True)"
   ],
   "outputs": [],
   "metadata": {}
  },
  {
   "cell_type": "code",
   "execution_count": 10,
   "source": [
    "%matplotlib widget\r\n",
    "\r\n",
    "evals = np.load('saved_pickles/Unbiased_B32_evals_2d-1_1_51.npy')\r\n",
    "np.shape(evals)\r\n",
    "\r\n",
    "X, Y = np.meshgrid(steps, steps)\r\n",
    "Z = evals[:, :, 0]\r\n",
    "Z = np.clip(Z, 0, 50)\r\n",
    "\r\n",
    "fig = plt.figure()\r\n",
    "# ax = Axes3D(fig)\r\n",
    "# surf = ax.plot_surface(X, Y, Z, cmap=cm.coolwarm, linewidth=0, antialiased=False)\r\n",
    "# fig.colorbar(surf, shrink=0.5, aspect=5)\r\n",
    "plt.contour(X, Y, Z, cmap='summer')"
   ],
   "outputs": [
    {
     "output_type": "display_data",
     "data": {
      "text/plain": [
       "Canvas(toolbar=Toolbar(toolitems=[('Home', 'Reset original view', 'home', 'home'), ('Back', 'Back to previous …"
      ],
      "application/vnd.jupyter.widget-view+json": {
       "version_major": 2,
       "version_minor": 0,
       "model_id": "5d4c26f905584e799929684adc5ad338"
      }
     },
     "metadata": {}
    },
    {
     "output_type": "execute_result",
     "data": {
      "text/plain": [
       "<matplotlib.contour.QuadContourSet at 0x21d35916160>"
      ]
     },
     "metadata": {},
     "execution_count": 10
    }
   ],
   "metadata": {}
  },
  {
   "cell_type": "code",
   "execution_count": 14,
   "source": [
    "%matplotlib widget\r\n",
    "\r\n",
    "evals = np.load('saved_pickles/SizeBiased_Cat_E60_B32_evals_2d-1_1_51.npy')\r\n",
    "np.shape(evals)\r\n",
    "\r\n",
    "X, Y = np.meshgrid(steps, steps)\r\n",
    "Z = evals[:, :, 0]\r\n",
    "Z = np.clip(Z, 0, 20)\r\n",
    "\r\n",
    "fig = plt.figure()\r\n",
    "ax = Axes3D(fig)\r\n",
    "surf = ax.plot_surface(X, Y, Z, cmap=cm.coolwarm, linewidth=0, antialiased=False)\r\n",
    "fig.colorbar(surf, shrink=0.5, aspect=5)\r\n",
    "# plt.contour(X, Y, Z, cmap='summer')"
   ],
   "outputs": [
    {
     "output_type": "display_data",
     "data": {
      "text/plain": [
       "Canvas(toolbar=Toolbar(toolitems=[('Home', 'Reset original view', 'home', 'home'), ('Back', 'Back to previous …"
      ],
      "application/vnd.jupyter.widget-view+json": {
       "version_major": 2,
       "version_minor": 0,
       "model_id": "459b35f414bc49bcba94cddf7770412c"
      }
     },
     "metadata": {}
    },
    {
     "output_type": "execute_result",
     "data": {
      "text/plain": [
       "<matplotlib.contour.QuadContourSet at 0x221b3a029a0>"
      ]
     },
     "metadata": {},
     "execution_count": 14
    }
   ],
   "metadata": {}
  },
  {
   "cell_type": "code",
   "execution_count": 6,
   "source": [
    "%matplotlib widget\r\n",
    "\r\n",
    "evals = np.load('saved_pickles/SizeBiased_Ship_E60_B32_evals_2d-1_1_51.npy')\r\n",
    "np.shape(evals)\r\n",
    "\r\n",
    "X, Y = np.meshgrid(steps, steps)\r\n",
    "Z = evals[:, :, 0]\r\n",
    "Z = np.clip(Z, 0, 20)\r\n",
    "\r\n",
    "fig = plt.figure()\r\n",
    "ax = Axes3D(fig)\r\n",
    "surf = ax.plot_surface(X, Y, Z, cmap=cm.coolwarm, linewidth=0, antialiased=False)\r\n",
    "fig.colorbar(surf, shrink=0.5, aspect=5)\r\n",
    "# plt.contour(X, Y, Z, cmap='summer')"
   ],
   "outputs": [
    {
     "output_type": "display_data",
     "data": {
      "text/plain": [
       "Canvas(toolbar=Toolbar(toolitems=[('Home', 'Reset original view', 'home', 'home'), ('Back', 'Back to previous …"
      ],
      "application/vnd.jupyter.widget-view+json": {
       "version_major": 2,
       "version_minor": 0,
       "model_id": "18f8b3c4c300481b99c9f647784e2cc6"
      }
     },
     "metadata": {}
    },
    {
     "output_type": "execute_result",
     "data": {
      "text/plain": [
       "<matplotlib.colorbar.Colorbar at 0x21c87e003a0>"
      ]
     },
     "metadata": {},
     "execution_count": 6
    }
   ],
   "metadata": {}
  },
  {
   "cell_type": "code",
   "execution_count": 7,
   "source": [
    "%matplotlib widget\r\n",
    "\r\n",
    "evals = np.load('saved_pickles/Unbiased_NoSkip_B32_evals_2d-1_1_51.npy')\r\n",
    "np.shape(evals)\r\n",
    "\r\n",
    "X, Y = np.meshgrid(steps, steps)\r\n",
    "Z = evals[:, :, 0]\r\n",
    "Z = np.clip(Z, 0, 10)\r\n",
    "\r\n",
    "fig = plt.figure()\r\n",
    "ax = Axes3D(fig)\r\n",
    "surf = ax.plot_surface(X, Y, Z, cmap=cm.coolwarm, linewidth=0, antialiased=False)\r\n",
    "fig.colorbar(surf, shrink=0.5, aspect=5)"
   ],
   "outputs": [
    {
     "output_type": "display_data",
     "data": {
      "text/plain": [
       "Canvas(toolbar=Toolbar(toolitems=[('Home', 'Reset original view', 'home', 'home'), ('Back', 'Back to previous …"
      ],
      "application/vnd.jupyter.widget-view+json": {
       "version_major": 2,
       "version_minor": 0,
       "model_id": "45c64b8acc134fa2b612d031b0f9e87e"
      }
     },
     "metadata": {}
    },
    {
     "output_type": "execute_result",
     "data": {
      "text/plain": [
       "<matplotlib.colorbar.Colorbar at 0x21c877010d0>"
      ]
     },
     "metadata": {},
     "execution_count": 7
    }
   ],
   "metadata": {}
  },
  {
   "cell_type": "code",
   "execution_count": 13,
   "source": [
    "%matplotlib widget\r\n",
    "\r\n",
    "evals = np.load('saved_pickles/Unbiased_NoSkip_B32_evals_2d-1_1_51.npy')\r\n",
    "np.shape(evals)\r\n",
    "\r\n",
    "X, Y = np.meshgrid(steps, steps)\r\n",
    "Z = evals[:, :, 0]\r\n",
    "Z = np.clip(Z, 0, 200)\r\n",
    "\r\n",
    "fig = plt.figure()\r\n",
    "plt.contour(X, Y, Z, cmap='summer')"
   ],
   "outputs": [
    {
     "output_type": "display_data",
     "data": {
      "text/plain": [
       "Canvas(toolbar=Toolbar(toolitems=[('Home', 'Reset original view', 'home', 'home'), ('Back', 'Back to previous …"
      ],
      "application/vnd.jupyter.widget-view+json": {
       "version_major": 2,
       "version_minor": 0,
       "model_id": "3c3cc2ce218d4c7f9c75520fa845b26b"
      }
     },
     "metadata": {}
    },
    {
     "output_type": "execute_result",
     "data": {
      "text/plain": [
       "<matplotlib.contour.QuadContourSet at 0x21d3659f070>"
      ]
     },
     "metadata": {},
     "execution_count": 13
    }
   ],
   "metadata": {}
  }
 ]
}